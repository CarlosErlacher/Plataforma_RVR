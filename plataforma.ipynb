{
 "cells": [
  {
   "cell_type": "code",
   "execution_count": null,
   "metadata": {},
   "outputs": [],
   "source": [
    "import pandas as pd\n",
    "import sys"
   ]
  },
  {
   "cell_type": "code",
   "execution_count": null,
   "metadata": {},
   "outputs": [],
   "source": [
    "df_raw = pd.read_csv('cdr.csv', sep=';', header=None)"
   ]
  },
  {
   "cell_type": "code",
   "execution_count": null,
   "metadata": {},
   "outputs": [],
   "source": [
    "df_raw.tail()"
   ]
  },
  {
   "cell_type": "code",
   "execution_count": null,
   "metadata": {},
   "outputs": [],
   "source": [
    "df_raw1 = df_raw[[0,1,2,3,5,6,7,10,11]].copy()\n",
    "df_raw1.columns = ['Destino', 'Data', 'Conta Voip', 'Numero', 'Duracao', 'Usuario', 'Tronco','Compra', 'Venda']\n",
    "df_raw1.head()"
   ]
  },
  {
   "cell_type": "code",
   "execution_count": null,
   "metadata": {},
   "outputs": [],
   "source": [
    "def split_tronco(str):\n",
    "    lst = str.split('_')\n",
    "    if len(lst) <3:\n",
    "        return 'Entrada'\n",
    "    \n",
    "    if lst[2] == 'Cel':\n",
    "        return 'Movel'\n",
    "    \n",
    "    elif lst[2] == 'Fixo':\n",
    "        return 'Fixo'\n",
    "    \n",
    "    else:\n",
    "        return 'outro'\n",
    "df_raw1['Tipo_Ligação'] = df_raw1.Tronco.apply(split_tronco)\n",
    "df_raw1.tail()"
   ]
  },
  {
   "cell_type": "code",
   "execution_count": null,
   "metadata": {},
   "outputs": [],
   "source": [
    "def busca_cliente(str):\n",
    "    cli = df_raw1[df_raw1['Usuario'] == str]\n",
    "    return cli"
   ]
  },
  {
   "cell_type": "code",
   "execution_count": null,
   "metadata": {},
   "outputs": [],
   "source": [
    "brshield = busca_cliente('brshield')"
   ]
  },
  {
   "cell_type": "code",
   "execution_count": null,
   "metadata": {},
   "outputs": [],
   "source": [
    "def cal_lucro(str):\n",
    "    c = str.Compra.sum()\n",
    "    v = str.Venda.sum()\n",
    "    l = str.Venda.sum() - str.Compra.sum()\n",
    "    print('''Somatoria dos valores :\n",
    "    -> Compra R$ {:.2f} \n",
    "    -> Venda R$ {:.2f}\n",
    "    -> Lucro R$ {:.2f}\n",
    "    '''.format(c,v,l))"
   ]
  },
  {
   "cell_type": "code",
   "execution_count": null,
   "metadata": {},
   "outputs": [],
   "source": [
    "cal_lucro(brshield)"
   ]
  },
  {
   "cell_type": "code",
   "execution_count": null,
   "metadata": {},
   "outputs": [],
   "source": [
    "cal_lucro(brshield[selecao])"
   ]
  },
  {
   "cell_type": "code",
   "execution_count": null,
   "metadata": {},
   "outputs": [],
   "source": [
    "def cal_clientes(df,i,f):\n",
    "    '''\n",
    "    Funcçao usada para calcular valores de custo, venda e lucro de uma tabela\n",
    "    df -> Dataframe a ser analisado\n",
    "    i -> Data inicio da busca (ex: '2019-01-01' ou '2019' ou '2019-01-01 00:00:00')\n",
    "    f - Data final da busca (ex: '2019-01-01' ou '2019' ou '2019-01-01 00:00:00')\n",
    "    '''\n",
    "    cli = df['Usuario'].unique()\n",
    "    p = (df['Data'] >= i) & (df['Data'] <= f)\n",
    "    for c in cli :\n",
    "        _df = df[df['Usuario'] == c]\n",
    "        print(f'O cliente {c} no periodo de {i} ate {f} : ')\n",
    "        cal_lucro(_df[p])"
   ]
  },
  {
   "cell_type": "code",
   "execution_count": null,
   "metadata": {
    "scrolled": true
   },
   "outputs": [],
   "source": [
    "cal_clientes(df_raw1[df_raw1[\"Usuario\"] == 'Escritorio'],'2019-01-01','2020-01-01')"
   ]
  },
  {
   "cell_type": "code",
   "execution_count": null,
   "metadata": {},
   "outputs": [],
   "source": [
    "cal_clientes(df_raw1,'2019','2020')"
   ]
  },
  {
   "cell_type": "code",
   "execution_count": null,
   "metadata": {},
   "outputs": [],
   "source": []
  }
 ],
 "metadata": {
  "kernelspec": {
   "display_name": "Python 3",
   "language": "python",
   "name": "python3"
  },
  "language_info": {
   "codemirror_mode": {
    "name": "ipython",
    "version": 3
   },
   "file_extension": ".py",
   "mimetype": "text/x-python",
   "name": "python",
   "nbconvert_exporter": "python",
   "pygments_lexer": "ipython3",
   "version": "3.7.6"
  }
 },
 "nbformat": 4,
 "nbformat_minor": 4
}
