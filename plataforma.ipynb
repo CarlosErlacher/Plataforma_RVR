{
 "cells": [
  {
   "cell_type": "raw",
   "metadata": {},
   "source": [
    "Gerar relatorios de todos os clientes da plataforma\n",
    "\n",
    "Relatorio Geral: \n",
    "-> Quantidades de clientes \n",
    "-> Valor total de compra, venda e lucro em cima de todos os clientes. \n",
    "        -> Separar valores entre clientes PJ e PF. \n",
    "        -> Mostrar todos os valores  por mes e ano . \n",
    "\n",
    "Relatorio por cliente: \n",
    "-> Valores de compra, venda e lucro. \n",
    "        -> Mostrar todos os valores por mes e ano . \n",
    "-> Qual o tipo de ligação mais efetuada.\n",
    "        -> Tempo medio das ligações por tipo\n",
    "        -> Valor medio de ligações por tipo\n",
    "        -> Numero mais discado por tipo  \n"
   ]
  },
  {
   "cell_type": "code",
   "execution_count": 1,
   "metadata": {},
   "outputs": [],
   "source": [
    "import pandas as pd"
   ]
  },
  {
   "cell_type": "code",
   "execution_count": 2,
   "metadata": {},
   "outputs": [],
   "source": [
    "# importando CSV\n",
    "df_raw = pd.read_csv('cdr.csv', sep=';', header=None)"
   ]
  },
  {
   "cell_type": "code",
   "execution_count": 79,
   "metadata": {},
   "outputs": [],
   "source": [
    "def split_tronco(str):\n",
    "    lst = str.split('_')\n",
    "    if len(lst) <3:\n",
    "        return 'Entrada'\n",
    "    \n",
    "    if lst[2] == 'Cel':\n",
    "        return 'Movel'\n",
    "    \n",
    "    elif lst[2] == 'Fixo':\n",
    "        return 'Fixo'\n",
    "    \n",
    "    else:\n",
    "        return 'outro'\n",
    "    \n",
    "def busca_cliente(str):\n",
    "    cli = df_raw1[df_raw1['Usuario'] == str]\n",
    "    return cli\n",
    "\n",
    "def cal_lucro(str):\n",
    "    c = str.Compra.sum()\n",
    "    v = str.Venda.sum()\n",
    "    l = str.Venda.sum() - str.Compra.sum()\n",
    "    return ('''Somatoria dos valores :\n",
    "    -> Compra R$ {:.2f} \n",
    "    -> Venda R$ {:.2f}\n",
    "    -> Lucro R$ {:.2f}\n",
    "    '''.format(c,v,l))\n",
    "    \n",
    "\n",
    "def cal_clientes(df,i,f):\n",
    "    '''\n",
    "    Funcçao usada para calcular valores de custo, venda e lucro de uma tabela\n",
    "    df -> Dataframe a ser analisado\n",
    "    i -> Data inicio da busca (ex: '2019-01-01' ou '2019' ou '2019-01-01 00:00:00')\n",
    "    f - Data final da busca (ex: '2019-01-01' ou '2019' ou '2019-01-01 00:00:00')\n",
    "    '''\n",
    "    cli = df['Usuario'].unique()\n",
    "    p = (df['Data'] >= i) & (df['Data'] <= f)\n",
    "    resp1 = list()\n",
    "    resp2 = list()\n",
    "    for c in cli :\n",
    "        _df = df[df['Usuario'] == c]\n",
    "        resp1.append(f'O cliente {c} no periodo de {i} ate {f} : ')\n",
    "        resp2.append(cal_lucro(_df[p]))\n",
    "    l = [resp1,resp2]\n",
    "    return l\n"
   ]
  },
  {
   "cell_type": "code",
   "execution_count": 37,
   "metadata": {},
   "outputs": [],
   "source": [
    "# ajustando as colunas e acrescentando a coluna Tipo de ligações\n",
    "df = df_raw[[0,1,2,3,5,6,7,10,11]].copy()\n",
    "df.columns = ['Destino', 'Data', 'Conta Voip', 'Numero', 'Duracao', 'Usuario', 'Tronco','Compra', 'Venda']\n",
    "df['Tipo de ligacao'] = df.Tronco.apply(split_tronco)"
   ]
  },
  {
   "cell_type": "code",
   "execution_count": 102,
   "metadata": {},
   "outputs": [
    {
     "name": "stderr",
     "output_type": "stream",
     "text": [
      "/media/carlos/Dados/projetos_python/plataforma_RVR/env/lib/python3.7/site-packages/ipykernel_launcher.py:44: UserWarning: Boolean Series key will be reindexed to match DataFrame index.\n"
     ]
    }
   ],
   "source": [
    "a = cal_clientes(df,'2018', '2020')\n"
   ]
  },
  {
   "cell_type": "code",
   "execution_count": 118,
   "metadata": {},
   "outputs": [],
   "source": [
    "for i in range(0, len(a[0])):\n",
    "    with open('relatorio.txt','a+') as file:\n",
    "        file.write(f' \\n {a[0][i]} \\n {a[1][i]} ')\n",
    "        "
   ]
  },
  {
   "cell_type": "code",
   "execution_count": null,
   "metadata": {},
   "outputs": [],
   "source": []
  }
 ],
 "metadata": {
  "kernelspec": {
   "display_name": "Python 3",
   "language": "python",
   "name": "python3"
  },
  "language_info": {
   "codemirror_mode": {
    "name": "ipython",
    "version": 3
   },
   "file_extension": ".py",
   "mimetype": "text/x-python",
   "name": "python",
   "nbconvert_exporter": "python",
   "pygments_lexer": "ipython3",
   "version": "3.7.6"
  }
 },
 "nbformat": 4,
 "nbformat_minor": 4
}
