{
 "cells": [
  {
   "cell_type": "code",
   "execution_count": 1,
   "metadata": {},
   "outputs": [],
   "source": [
    "import pandas as pd"
   ]
  },
  {
   "cell_type": "code",
   "execution_count": 2,
   "metadata": {},
   "outputs": [],
   "source": [
    "df_raw = pd.read_csv('cdr.csv', sep=';', header=None)"
   ]
  },
  {
   "cell_type": "code",
   "execution_count": 3,
   "metadata": {},
   "outputs": [],
   "source": [
    "df = df_raw[[0,1,2,3,5,6,7,10,11]].copy()"
   ]
  },
  {
   "cell_type": "code",
   "execution_count": 4,
   "metadata": {},
   "outputs": [],
   "source": [
    "df.columns = ['Destino','Data','Usuario', 'Did', 'Duracao', 'Conta_Voip', 'Tronco', 'Compra', 'Venda']"
   ]
  },
  {
   "cell_type": "code",
   "execution_count": 5,
   "metadata": {},
   "outputs": [
    {
     "data": {
      "text/html": [
       "<div>\n",
       "<style scoped>\n",
       "    .dataframe tbody tr th:only-of-type {\n",
       "        vertical-align: middle;\n",
       "    }\n",
       "\n",
       "    .dataframe tbody tr th {\n",
       "        vertical-align: top;\n",
       "    }\n",
       "\n",
       "    .dataframe thead th {\n",
       "        text-align: right;\n",
       "    }\n",
       "</style>\n",
       "<table border=\"1\" class=\"dataframe\">\n",
       "  <thead>\n",
       "    <tr style=\"text-align: right;\">\n",
       "      <th></th>\n",
       "      <th>Destino</th>\n",
       "      <th>Data</th>\n",
       "      <th>Usuario</th>\n",
       "      <th>Did</th>\n",
       "      <th>Duracao</th>\n",
       "      <th>Conta_Voip</th>\n",
       "      <th>Tronco</th>\n",
       "      <th>Compra</th>\n",
       "      <th>Venda</th>\n",
       "    </tr>\n",
       "  </thead>\n",
       "  <tbody>\n",
       "    <tr>\n",
       "      <th>1003771</th>\n",
       "      <td>Brasil Celular</td>\n",
       "      <td>2020-03-19 12:15:26</td>\n",
       "      <td>AndreiaTuttiDepil</td>\n",
       "      <td>5571986263634</td>\n",
       "      <td>30</td>\n",
       "      <td>AndreiaTuttiDepil</td>\n",
       "      <td>Tronco_TelleGroup_Cel</td>\n",
       "      <td>0.0325</td>\n",
       "      <td>0.3000</td>\n",
       "    </tr>\n",
       "    <tr>\n",
       "      <th>1003772</th>\n",
       "      <td>Brasil Fixo Sao Paulo</td>\n",
       "      <td>2020-03-19 12:14:52</td>\n",
       "      <td>Tronco_76Telecom</td>\n",
       "      <td>551146548130</td>\n",
       "      <td>117</td>\n",
       "      <td>Bytilly</td>\n",
       "      <td>\\N</td>\n",
       "      <td>0.0000</td>\n",
       "      <td>0.0000</td>\n",
       "    </tr>\n",
       "    <tr>\n",
       "      <th>1003773</th>\n",
       "      <td>Brasil Fixo Sao Paulo</td>\n",
       "      <td>2020-03-19 12:14:10</td>\n",
       "      <td>brshield</td>\n",
       "      <td>551146422975</td>\n",
       "      <td>168</td>\n",
       "      <td>brshield</td>\n",
       "      <td>Tronco_Eai_Fixo_CLI</td>\n",
       "      <td>0.0420</td>\n",
       "      <td>0.0644</td>\n",
       "    </tr>\n",
       "    <tr>\n",
       "      <th>1003774</th>\n",
       "      <td>Brasil Fixo Sao Paulo</td>\n",
       "      <td>2020-03-19 12:15:24</td>\n",
       "      <td>Tronco_76Telecom</td>\n",
       "      <td>551139002562</td>\n",
       "      <td>109</td>\n",
       "      <td>Dellapar</td>\n",
       "      <td>\\N</td>\n",
       "      <td>0.0000</td>\n",
       "      <td>0.0000</td>\n",
       "    </tr>\n",
       "    <tr>\n",
       "      <th>1003775</th>\n",
       "      <td>Brasil Celular</td>\n",
       "      <td>2020-03-19 12:18:06</td>\n",
       "      <td>AndreiaTuttiDepil</td>\n",
       "      <td>5585996759251</td>\n",
       "      <td>30</td>\n",
       "      <td>AndreiaTuttiDepil</td>\n",
       "      <td>Tronco_Eai_Cel_ITX</td>\n",
       "      <td>0.0325</td>\n",
       "      <td>0.3000</td>\n",
       "    </tr>\n",
       "  </tbody>\n",
       "</table>\n",
       "</div>"
      ],
      "text/plain": [
       "                       Destino                 Data            Usuario  \\\n",
       "1003771         Brasil Celular  2020-03-19 12:15:26  AndreiaTuttiDepil   \n",
       "1003772  Brasil Fixo Sao Paulo  2020-03-19 12:14:52   Tronco_76Telecom   \n",
       "1003773  Brasil Fixo Sao Paulo  2020-03-19 12:14:10           brshield   \n",
       "1003774  Brasil Fixo Sao Paulo  2020-03-19 12:15:24   Tronco_76Telecom   \n",
       "1003775         Brasil Celular  2020-03-19 12:18:06  AndreiaTuttiDepil   \n",
       "\n",
       "                   Did  Duracao         Conta_Voip                 Tronco  \\\n",
       "1003771  5571986263634       30  AndreiaTuttiDepil  Tronco_TelleGroup_Cel   \n",
       "1003772   551146548130      117            Bytilly                     \\N   \n",
       "1003773   551146422975      168           brshield    Tronco_Eai_Fixo_CLI   \n",
       "1003774   551139002562      109           Dellapar                     \\N   \n",
       "1003775  5585996759251       30  AndreiaTuttiDepil     Tronco_Eai_Cel_ITX   \n",
       "\n",
       "         Compra   Venda  \n",
       "1003771  0.0325  0.3000  \n",
       "1003772  0.0000  0.0000  \n",
       "1003773  0.0420  0.0644  \n",
       "1003774  0.0000  0.0000  \n",
       "1003775  0.0325  0.3000  "
      ]
     },
     "execution_count": 5,
     "metadata": {},
     "output_type": "execute_result"
    }
   ],
   "source": [
    "df.tail()"
   ]
  },
  {
   "cell_type": "code",
   "execution_count": 238,
   "metadata": {},
   "outputs": [],
   "source": [
    "class Adjust:\n",
    "    def type_call(df):\n",
    "        lst = df.split('_')\n",
    "        if len(lst) < 3:\n",
    "            return 'Entrada'\n",
    "        if lst[2] == 'Fixo':\n",
    "            return 'Fixo'\n",
    "        if lst[2] == 'Cel':\n",
    "            return 'Celular'\n",
    "        if lst[2] == 'DDI':\n",
    "            return 'DDI'\n",
    "        if lst[2] == 'TDM':\n",
    "            return 'Especial'\n",
    "        else:\n",
    "            return \"Outro\"\n",
    "        \n",
    "        \n",
    "class Client:\n",
    "    def total_client(df):\n",
    "        df['Usuario'].shape\n",
    "        \n",
    "       \n",
    "    def billing_client(df,u=None,i=None,f=None):\n",
    "        if u == None :\n",
    "            u = input(str('Digite un nome de usuario: '))\n",
    "            _df = df[df['Usuario'] == user]\n",
    "        else:\n",
    "            _df = df[df['Usuario'] == u]\n",
    "            \n",
    "        if i == None or f == None:\n",
    "            dt_i = input(str('Digite a data incial (AAAA/MM/DD) : '))\n",
    "            dt_f = input(str('Digite a data final (AAAA/MM/DD) : '))\n",
    "            p = (df[\"Data\"] >= dt_i) & (df[\"Data\"] <= dt_f) \n",
    "            dfp = df[p]\n",
    "            _df = dfp[df['Usuario'] == u] \n",
    "             \n",
    "        venda = _df.Venda.sum()\n",
    "        custo = _df.Compra.sum()\n",
    "        lucro = venda - custo\n",
    "        return ('''\n",
    "        ==============================================\n",
    "        Segue abaixo os valores selecionados:\n",
    "        Cliente : {}\n",
    "        --> Venda - R${:.2f} \n",
    "        --> Custo - R${:.2f}\n",
    "        --> Lucro - R${:.2f}\n",
    "        ===============================================\n",
    "        \n",
    "        '''.format(u,venda,custo,lucro))\n",
    "\n",
    "    def billing_all_client(df,i=None,f=None):\n",
    "        cli = df.Conta_Voip.unique()\n",
    "        if i == None or f ==None:\n",
    "            dt_i = input(str('Digite a data incial (AAAA/MM/DD) : '))\n",
    "            dt_f = input(str('Digite a data final (AAAA/MM/DD) : '))\n",
    "        else:\n",
    "            dt_i = i\n",
    "            dt_f = f\n",
    "       \n",
    "        with open('relatorios2.txt', 'a+') as file:\n",
    "                file.write(f'Relatorio do periodo de {dt_i} a {dt_f}\\n \\n')\n",
    "        for c in range (0, len(cli)):\n",
    "            r = cli[c]\n",
    "            with open('relatorios2.txt', 'a+') as file:\n",
    "                file.write(Client.billing_client(df,r,dt_i,dt_f))\n",
    "        \n",
    "        \n",
    "        \n",
    "        \n",
    "        "
   ]
  },
  {
   "cell_type": "code",
   "execution_count": 7,
   "metadata": {},
   "outputs": [],
   "source": [
    "df['Tipo_Ligacao'] = df.Tronco.apply(Adjust.type_call)"
   ]
  },
  {
   "cell_type": "code",
   "execution_count": 9,
   "metadata": {},
   "outputs": [],
   "source": [
    "df.Data=pd.to_datetime(df.Data)"
   ]
  },
  {
   "cell_type": "code",
   "execution_count": 234,
   "metadata": {},
   "outputs": [
    {
     "name": "stdout",
     "output_type": "stream",
     "text": [
      "Digite a data incial (AAAA/MM/DD) : 2020\n",
      "Digite a data final (AAAA/MM/DD) : 2020-02\n"
     ]
    },
    {
     "name": "stderr",
     "output_type": "stream",
     "text": [
      "/media/carlos/Dados/projetos_python/plataforma_RVR/env/lib/python3.7/site-packages/ipykernel_launcher.py:35: UserWarning: Boolean Series key will be reindexed to match DataFrame index.\n"
     ]
    }
   ],
   "source": [
    "faturamento = Client.billing_client(df,'Escritorio')"
   ]
  },
  {
   "cell_type": "code",
   "execution_count": 235,
   "metadata": {},
   "outputs": [
    {
     "data": {
      "text/plain": [
       "'\\n        ==============================================\\n        Segue abaixo os valores selecionados:\\n        Periodo : 2020 -> 2020-02\\n        Cliente : Escritorio\\n        --> Venda - R$0.00 \\n        --> Custo - R$0.00\\n        --> Lucro - R$0.00\\n        ===============================================\\n        \\n        '"
      ]
     },
     "execution_count": 235,
     "metadata": {},
     "output_type": "execute_result"
    }
   ],
   "source": [
    "faturamento"
   ]
  },
  {
   "cell_type": "code",
   "execution_count": 239,
   "metadata": {},
   "outputs": [],
   "source": [
    "Client.billing_all_client(df,'2020-01','2020-02')"
   ]
  },
  {
   "cell_type": "code",
   "execution_count": null,
   "metadata": {},
   "outputs": [],
   "source": []
  }
 ],
 "metadata": {
  "kernelspec": {
   "display_name": "Python 3",
   "language": "python",
   "name": "python3"
  },
  "language_info": {
   "codemirror_mode": {
    "name": "ipython",
    "version": 3
   },
   "file_extension": ".py",
   "mimetype": "text/x-python",
   "name": "python",
   "nbconvert_exporter": "python",
   "pygments_lexer": "ipython3",
   "version": "3.7.6"
  }
 },
 "nbformat": 4,
 "nbformat_minor": 4
}
