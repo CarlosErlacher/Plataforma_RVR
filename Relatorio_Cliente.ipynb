{
 "cells": [
  {
   "cell_type": "code",
   "execution_count": null,
   "metadata": {},
   "outputs": [],
   "source": [
    "import pandas as pd"
   ]
  },
  {
   "cell_type": "code",
   "execution_count": null,
   "metadata": {},
   "outputs": [],
   "source": [
    "df_raw = pd.read_csv('cdr.csv', sep=';', header=None)\n",
    "df = df_raw[[0,1,2,3,5,6,7,10,11]].copy()\n",
    "df.columns = ['Destino','Data','Usuario', 'Did', 'Duracao', 'Conta_Voip', 'Tronco', 'Compra', 'Venda']\n",
    "df.Data=pd.to_datetime(df.Data)"
   ]
  },
  {
   "cell_type": "code",
   "execution_count": null,
   "metadata": {},
   "outputs": [],
   "source": [
    "class Adjust:\n",
    "    \n",
    "    def type_call(df):\n",
    "        lst = df.split('_')\n",
    "        if len(lst) < 3:\n",
    "            return 'Entrada'\n",
    "        if lst[2] == 'Fixo':\n",
    "            return 'Fixo'\n",
    "        if lst[2] == 'Cel':\n",
    "            return 'Celular'\n",
    "        if lst[2] == 'DDI':\n",
    "            return 'DDI'\n",
    "        if lst[2] == 'TDM':\n",
    "            return 'Especial'\n",
    "        else:\n",
    "            return \"Outro\"\n",
    "        \n",
    "        \n",
    "class Client: \n",
    "       \n",
    "    def billing_client(df,u=None,i=None,f=None):\n",
    "        if u == None :\n",
    "            u = input(str('Digite un nome de usuario: '))\n",
    "            _df = df[df['Usuario'] == user]\n",
    "        else:\n",
    "            _df = df[df['Usuario'] == u]\n",
    "            \n",
    "        if i == None or f == None:\n",
    "            dt_i = input(str('Digite a data incial (AAAA/MM/DD) : '))\n",
    "            dt_f = input(str('Digite a data final (AAAA/MM/DD) : '))\n",
    "            p = (df[\"Data\"] >= dt_i) & (df[\"Data\"] <= dt_f) \n",
    "            dfp = df[p]\n",
    "            _df = dfp[df['Usuario'] == u] \n",
    "             \n",
    "        venda = _df.Venda.sum()\n",
    "        custo = _df.Compra.sum()\n",
    "        lucro = venda - custo\n",
    "        return ('''\n",
    "        ==============================================\n",
    "        Segue abaixo os valores selecionados:\n",
    "        Cliente : {}\n",
    "        --> Venda - R${:.2f} \n",
    "        --> Custo - R${:.2f}\n",
    "        --> Lucro - R${:.2f}\n",
    "        ===============================================\n",
    "        \n",
    "        '''.format(u,venda,custo,lucro))\n",
    "\n",
    "    def billing_all_client(df,i=None,f=None):\n",
    "        cli = df.Conta_Voip.unique()\n",
    "        if i == None or f ==None:\n",
    "            dt_i = input(str('Digite a data incial (AAAA/MM/DD) : '))\n",
    "            dt_f = input(str('Digite a data final (AAAA/MM/DD) : '))\n",
    "        else:\n",
    "            dt_i = i\n",
    "            dt_f = f\n",
    "       \n",
    "        with open('relatorios2.txt', 'a+') as file:\n",
    "                file.write(f'Relatorio do periodo de {dt_i} a {dt_f}\\n \\n')\n",
    "        for c in range (0, len(cli)):\n",
    "            r = cli[c]\n",
    "            with open('relatorios2.txt', 'a+') as file:\n",
    "                file.write(Client.billing_client(df,r,dt_i,dt_f))\n",
    "        \n",
    "        \n",
    "        \n",
    "        \n",
    "        "
   ]
  },
  {
   "cell_type": "code",
   "execution_count": null,
   "metadata": {},
   "outputs": [],
   "source": [
    "df['Tipo_Ligacao'] = df.Tronco.apply(Adjust.type_call)"
   ]
  },
  {
   "cell_type": "code",
   "execution_count": null,
   "metadata": {},
   "outputs": [],
   "source": [
    "Client.billing_client(df,'Escritorio')"
   ]
  },
  {
   "cell_type": "code",
   "execution_count": null,
   "metadata": {},
   "outputs": [],
   "source": [
    "Client.billing_all_client(df,'2020-01','2020-02')"
   ]
  },
  {
   "cell_type": "code",
   "execution_count": null,
   "metadata": {},
   "outputs": [],
   "source": []
  }
 ],
 "metadata": {
  "kernelspec": {
   "display_name": "Python 3",
   "language": "python",
   "name": "python3"
  },
  "language_info": {
   "codemirror_mode": {
    "name": "ipython",
    "version": 3
   },
   "file_extension": ".py",
   "mimetype": "text/x-python",
   "name": "python",
   "nbconvert_exporter": "python",
   "pygments_lexer": "ipython3",
   "version": "3.7.6"
  }
 },
 "nbformat": 4,
 "nbformat_minor": 4
}
