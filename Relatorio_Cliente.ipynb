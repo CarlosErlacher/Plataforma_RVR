{
 "cells": [
  {
   "cell_type": "code",
   "execution_count": 1,
   "metadata": {},
   "outputs": [],
   "source": [
    "import pandas as pd\n",
    "import os"
   ]
  },
  {
   "cell_type": "code",
   "execution_count": 4,
   "metadata": {},
   "outputs": [],
   "source": [
    "df_raw = pd.read_csv('cdr.csv', sep=';', header=None)\n",
    "df = df_raw[[0,1,2,3,5,6,7,10,11]].copy()\n",
    "df.columns = ['Destino','Data','Usuario', 'Did', 'Duracao', 'Conta_Voip', 'Tronco', 'Compra', 'Venda']\n"
   ]
  },
  {
   "cell_type": "code",
   "execution_count": 68,
   "metadata": {},
   "outputs": [],
   "source": [
    "class Adjust:\n",
    "    \n",
    "    def type_call(df):\n",
    "        lst = df.split('_')\n",
    "        if len(lst) < 3:\n",
    "            return 'Entrada'\n",
    "        if lst[2] == 'Fixo':\n",
    "            return 'Fixo'\n",
    "        if lst[2] == 'Cel':\n",
    "            return 'Celular'\n",
    "        if lst[2] == 'DDI':\n",
    "            return 'DDI'\n",
    "        if lst[2] == 'TDM':\n",
    "            return 'Especial'\n",
    "        else:\n",
    "            return \"Outro\"\n",
    "        \n",
    "        \n",
    "class Client: \n",
    "       \n",
    "    def billing_client(df,u=None,i=None,f=None):\n",
    "            \n",
    "#         if i == None or f == None or u == None):\n",
    "#             u = input(str('Digite un nome de usuario: '))\n",
    "#             dt_i = input(str('Digite a data incial (AAAA/MM/DD) : '))\n",
    "#             dt_f = input(str('Digite a data final (AAAA/MM/DD) : '))\n",
    "#             p = (df[\"Data\"] >= dt_i) & (df[\"Data\"] <= dt_f) \n",
    "#             dfp = df[p]\n",
    "#             _df = dfp[df['Conta_Voip'] == u] \n",
    "\n",
    "        if u == None:\n",
    "            u = input(str('Digite un nome de usuario: '))\n",
    "                 \n",
    "        if i == None:\n",
    "            dt_i = input(str('Digite a data incial (AAAA/MM/DD) : '))\n",
    "        else:\n",
    "            dt_i = str(i)\n",
    "        if f == None:\n",
    "            dt_f = input(str('Digite a data final (AAAA/MM/DD) : '))\n",
    "        else: \n",
    "            dt_f = str(f)\n",
    "       \n",
    "        p = (df[\"Data\"] >= dt_i) & (df[\"Data\"] <= dt_f) \n",
    "        dfp = df[p]\n",
    "        _df = dfp[df['Conta_Voip'] == u] \n",
    "\n",
    "        venda = _df.Venda.sum()\n",
    "        custo = _df.Compra.sum()\n",
    "        lucro = venda - custo\n",
    "        return ('''\n",
    "        ==============================================\n",
    "        Segue abaixo os valores selecionados:\n",
    "        Cliente : {}\n",
    "        --> Venda - R$ {:.2f} \n",
    "        --> Custo - R$ {:.2f}\n",
    "        --> Lucro - R$ {:.2f}\n",
    "        ===============================================\n",
    "        \n",
    "        '''.format(u,venda,custo,lucro))\n",
    "\n",
    "    def billing_all_client(df,i=None,f=None):\n",
    "        \n",
    "        try:\n",
    "            os.remove('relatorios2.txt')\n",
    "        except:\n",
    "            print(f'Arquivo não existe ! ')\n",
    "        else:\n",
    "            pass\n",
    "        \n",
    "        cli = sorted(df.Conta_Voip.unique())\n",
    "        if i == None or f ==None:\n",
    "            dt_i = input(str('Digite a data incial (AAAA/MM/DD) : '))\n",
    "            dt_f = input(str('Digite a data final (AAAA/MM/DD) : '))\n",
    "        else:\n",
    "            dt_i = i\n",
    "            dt_f = f\n",
    "       \n",
    "        with open('relatorios2.txt', 'w') as file:\n",
    "                file.write(f'Relatorio do periodo de {dt_i} a {dt_f}\\n \\n')\n",
    "        for c in range (0, len(cli)):\n",
    "            r = cli[c]\n",
    "            with open('relatorios2.txt', 'a+') as file:\n",
    "                file.write(Client.billing_client(df,u = r,i = dt_i, f = dt_f))\n",
    "        \n",
    "        \n",
    "        \n",
    "        \n",
    "        "
   ]
  },
  {
   "cell_type": "code",
   "execution_count": 6,
   "metadata": {},
   "outputs": [],
   "source": [
    "df['Tipo_Ligacao'] = df.Tronco.apply(Adjust.type_call)"
   ]
  },
  {
   "cell_type": "code",
   "execution_count": 71,
   "metadata": {},
   "outputs": [
    {
     "name": "stdout",
     "output_type": "stream",
     "text": [
      "Digite a data incial (AAAA/MM/DD) : 2019-01\n"
     ]
    },
    {
     "name": "stderr",
     "output_type": "stream",
     "text": [
      "/media/carlos/Dados/projetos_python/Plataforma_RVR/venv/lib/python3.7/site-packages/ipykernel_launcher.py:45: UserWarning: Boolean Series key will be reindexed to match DataFrame index.\n"
     ]
    },
    {
     "data": {
      "text/plain": [
       "'\\n        ==============================================\\n        Segue abaixo os valores selecionados:\\n        Cliente : Escritorio\\n        --> Venda - R$ 145.14 \\n        --> Custo - R$ 32.80\\n        --> Lucro - R$ 112.34\\n        ===============================================\\n        \\n        '"
      ]
     },
     "execution_count": 71,
     "metadata": {},
     "output_type": "execute_result"
    }
   ],
   "source": [
    "Client.billing_client(df,'Escritorio', f = '2019-02')"
   ]
  },
  {
   "cell_type": "code",
   "execution_count": 54,
   "metadata": {},
   "outputs": [
    {
     "name": "stdout",
     "output_type": "stream",
     "text": [
      "Digite a data incial (AAAA/MM/DD) : 2019-01\n",
      "Digite a data final (AAAA/MM/DD) : 2019-02\n"
     ]
    },
    {
     "name": "stderr",
     "output_type": "stream",
     "text": [
      "/media/carlos/Dados/projetos_python/Plataforma_RVR/venv/lib/python3.7/site-packages/ipykernel_launcher.py:40: UserWarning: Boolean Series key will be reindexed to match DataFrame index.\n"
     ]
    }
   ],
   "source": [
    "Client.billing_all_client(df)"
   ]
  }
 ],
 "metadata": {
  "kernelspec": {
   "display_name": "Python 3",
   "language": "python",
   "name": "python3"
  },
  "language_info": {
   "codemirror_mode": {
    "name": "ipython",
    "version": 3
   },
   "file_extension": ".py",
   "mimetype": "text/x-python",
   "name": "python",
   "nbconvert_exporter": "python",
   "pygments_lexer": "ipython3",
   "version": "3.7.4"
  }
 },
 "nbformat": 4,
 "nbformat_minor": 4
}
